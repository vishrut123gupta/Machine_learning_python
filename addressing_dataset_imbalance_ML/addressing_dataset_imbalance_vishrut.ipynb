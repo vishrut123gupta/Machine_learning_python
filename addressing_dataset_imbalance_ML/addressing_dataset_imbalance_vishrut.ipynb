{
 "cells": [
  {
   "cell_type": "markdown",
   "id": "150b7bb0-353f-4f14-a08b-0d96e4e3159a",
   "metadata": {},
   "source": [
    "### <span style=\"color:red\"> Addressing Dataset Imbalance in Machine Learning Models </span>"
   ]
  },
  {
   "cell_type": "markdown",
   "id": "b75cf42b-dc8b-4150-94b9-df1fb7ccaef7",
   "metadata": {},
   "source": [
    "NOTE: \n",
    "We will use the Bank Churn Dataset and make our predictions using ML Models as well as an ANN with special focus on imbalanced dataset handling techniques!"
   ]
  },
  {
   "cell_type": "code",
   "execution_count": 1,
   "id": "a0d27349-f01e-4247-b18b-f449cb014315",
   "metadata": {},
   "outputs": [],
   "source": [
    "# Importing relevant modules\n",
    "import tensorflow as tf\n",
    "from sklearn.model_selection import cross_val_score, GridSearchCV\n",
    "from sklearn.svm import SVC\n",
    "from sklearn.linear_model import LogisticRegression\n",
    "from sklearn.ensemble import RandomForestClassifier\n",
    "from sklearn.naive_bayes import GaussianNB\n",
    "from sklearn.preprocessing import MinMaxScaler\n",
    "from sklearn.model_selection import train_test_split\n",
    "from sklearn.metrics import confusion_matrix, classification_report\n",
    "from imblearn.over_sampling import SMOTE\n",
    "import pandas as pd\n",
    "import numpy as np\n",
    "import seaborn as sns\n",
    "import matplotlib.pyplot as plt\n",
    "%matplotlib inline"
   ]
  },
  {
   "cell_type": "markdown",
   "id": "d1cfcdac-76dc-4eb0-b6e8-cf218a207a69",
   "metadata": {},
   "source": [
    "##### Data Evaluation"
   ]
  },
  {
   "cell_type": "code",
   "execution_count": 2,
   "id": "227fb125-4083-431d-83de-bab208a1f61c",
   "metadata": {},
   "outputs": [
    {
     "data": {
      "text/html": [
       "<div>\n",
       "<style scoped>\n",
       "    .dataframe tbody tr th:only-of-type {\n",
       "        vertical-align: middle;\n",
       "    }\n",
       "\n",
       "    .dataframe tbody tr th {\n",
       "        vertical-align: top;\n",
       "    }\n",
       "\n",
       "    .dataframe thead th {\n",
       "        text-align: right;\n",
       "    }\n",
       "</style>\n",
       "<table border=\"1\" class=\"dataframe\">\n",
       "  <thead>\n",
       "    <tr style=\"text-align: right;\">\n",
       "      <th></th>\n",
       "      <th>RowNumber</th>\n",
       "      <th>CustomerId</th>\n",
       "      <th>CreditScore</th>\n",
       "      <th>Age</th>\n",
       "      <th>Tenure</th>\n",
       "      <th>Balance</th>\n",
       "      <th>NumOfProducts</th>\n",
       "      <th>HasCrCard</th>\n",
       "      <th>IsActiveMember</th>\n",
       "      <th>EstimatedSalary</th>\n",
       "      <th>Exited</th>\n",
       "    </tr>\n",
       "  </thead>\n",
       "  <tbody>\n",
       "    <tr>\n",
       "      <th>count</th>\n",
       "      <td>10000.00000</td>\n",
       "      <td>1.000000e+04</td>\n",
       "      <td>10000.000000</td>\n",
       "      <td>10000.000000</td>\n",
       "      <td>10000.000000</td>\n",
       "      <td>10000.000000</td>\n",
       "      <td>10000.000000</td>\n",
       "      <td>10000.00000</td>\n",
       "      <td>10000.000000</td>\n",
       "      <td>10000.000000</td>\n",
       "      <td>10000.000000</td>\n",
       "    </tr>\n",
       "    <tr>\n",
       "      <th>mean</th>\n",
       "      <td>5000.50000</td>\n",
       "      <td>1.569094e+07</td>\n",
       "      <td>650.528800</td>\n",
       "      <td>38.921800</td>\n",
       "      <td>5.012800</td>\n",
       "      <td>76485.889288</td>\n",
       "      <td>1.530200</td>\n",
       "      <td>0.70550</td>\n",
       "      <td>0.515100</td>\n",
       "      <td>100090.239881</td>\n",
       "      <td>0.203700</td>\n",
       "    </tr>\n",
       "    <tr>\n",
       "      <th>std</th>\n",
       "      <td>2886.89568</td>\n",
       "      <td>7.193619e+04</td>\n",
       "      <td>96.653299</td>\n",
       "      <td>10.487806</td>\n",
       "      <td>2.892174</td>\n",
       "      <td>62397.405202</td>\n",
       "      <td>0.581654</td>\n",
       "      <td>0.45584</td>\n",
       "      <td>0.499797</td>\n",
       "      <td>57510.492818</td>\n",
       "      <td>0.402769</td>\n",
       "    </tr>\n",
       "    <tr>\n",
       "      <th>min</th>\n",
       "      <td>1.00000</td>\n",
       "      <td>1.556570e+07</td>\n",
       "      <td>350.000000</td>\n",
       "      <td>18.000000</td>\n",
       "      <td>0.000000</td>\n",
       "      <td>0.000000</td>\n",
       "      <td>1.000000</td>\n",
       "      <td>0.00000</td>\n",
       "      <td>0.000000</td>\n",
       "      <td>11.580000</td>\n",
       "      <td>0.000000</td>\n",
       "    </tr>\n",
       "    <tr>\n",
       "      <th>25%</th>\n",
       "      <td>2500.75000</td>\n",
       "      <td>1.562853e+07</td>\n",
       "      <td>584.000000</td>\n",
       "      <td>32.000000</td>\n",
       "      <td>3.000000</td>\n",
       "      <td>0.000000</td>\n",
       "      <td>1.000000</td>\n",
       "      <td>0.00000</td>\n",
       "      <td>0.000000</td>\n",
       "      <td>51002.110000</td>\n",
       "      <td>0.000000</td>\n",
       "    </tr>\n",
       "    <tr>\n",
       "      <th>50%</th>\n",
       "      <td>5000.50000</td>\n",
       "      <td>1.569074e+07</td>\n",
       "      <td>652.000000</td>\n",
       "      <td>37.000000</td>\n",
       "      <td>5.000000</td>\n",
       "      <td>97198.540000</td>\n",
       "      <td>1.000000</td>\n",
       "      <td>1.00000</td>\n",
       "      <td>1.000000</td>\n",
       "      <td>100193.915000</td>\n",
       "      <td>0.000000</td>\n",
       "    </tr>\n",
       "    <tr>\n",
       "      <th>75%</th>\n",
       "      <td>7500.25000</td>\n",
       "      <td>1.575323e+07</td>\n",
       "      <td>718.000000</td>\n",
       "      <td>44.000000</td>\n",
       "      <td>7.000000</td>\n",
       "      <td>127644.240000</td>\n",
       "      <td>2.000000</td>\n",
       "      <td>1.00000</td>\n",
       "      <td>1.000000</td>\n",
       "      <td>149388.247500</td>\n",
       "      <td>0.000000</td>\n",
       "    </tr>\n",
       "    <tr>\n",
       "      <th>max</th>\n",
       "      <td>10000.00000</td>\n",
       "      <td>1.581569e+07</td>\n",
       "      <td>850.000000</td>\n",
       "      <td>92.000000</td>\n",
       "      <td>10.000000</td>\n",
       "      <td>250898.090000</td>\n",
       "      <td>4.000000</td>\n",
       "      <td>1.00000</td>\n",
       "      <td>1.000000</td>\n",
       "      <td>199992.480000</td>\n",
       "      <td>1.000000</td>\n",
       "    </tr>\n",
       "  </tbody>\n",
       "</table>\n",
       "</div>"
      ],
      "text/plain": [
       "         RowNumber    CustomerId   CreditScore           Age        Tenure  \\\n",
       "count  10000.00000  1.000000e+04  10000.000000  10000.000000  10000.000000   \n",
       "mean    5000.50000  1.569094e+07    650.528800     38.921800      5.012800   \n",
       "std     2886.89568  7.193619e+04     96.653299     10.487806      2.892174   \n",
       "min        1.00000  1.556570e+07    350.000000     18.000000      0.000000   \n",
       "25%     2500.75000  1.562853e+07    584.000000     32.000000      3.000000   \n",
       "50%     5000.50000  1.569074e+07    652.000000     37.000000      5.000000   \n",
       "75%     7500.25000  1.575323e+07    718.000000     44.000000      7.000000   \n",
       "max    10000.00000  1.581569e+07    850.000000     92.000000     10.000000   \n",
       "\n",
       "             Balance  NumOfProducts    HasCrCard  IsActiveMember  \\\n",
       "count   10000.000000   10000.000000  10000.00000    10000.000000   \n",
       "mean    76485.889288       1.530200      0.70550        0.515100   \n",
       "std     62397.405202       0.581654      0.45584        0.499797   \n",
       "min         0.000000       1.000000      0.00000        0.000000   \n",
       "25%         0.000000       1.000000      0.00000        0.000000   \n",
       "50%     97198.540000       1.000000      1.00000        1.000000   \n",
       "75%    127644.240000       2.000000      1.00000        1.000000   \n",
       "max    250898.090000       4.000000      1.00000        1.000000   \n",
       "\n",
       "       EstimatedSalary        Exited  \n",
       "count     10000.000000  10000.000000  \n",
       "mean     100090.239881      0.203700  \n",
       "std       57510.492818      0.402769  \n",
       "min          11.580000      0.000000  \n",
       "25%       51002.110000      0.000000  \n",
       "50%      100193.915000      0.000000  \n",
       "75%      149388.247500      0.000000  \n",
       "max      199992.480000      1.000000  "
      ]
     },
     "execution_count": 2,
     "metadata": {},
     "output_type": "execute_result"
    }
   ],
   "source": [
    "churn_data_original = pd.read_csv(\"Churn_Modelling.csv\")\n",
    "churn_data_original.describe()"
   ]
  },
  {
   "cell_type": "code",
   "execution_count": 3,
   "id": "93498f26-052d-43df-927d-1d680ca13741",
   "metadata": {},
   "outputs": [
    {
     "data": {
      "text/plain": [
       "RowNumber            int64\n",
       "CustomerId           int64\n",
       "Surname             object\n",
       "CreditScore          int64\n",
       "Geography           object\n",
       "Gender              object\n",
       "Age                  int64\n",
       "Tenure               int64\n",
       "Balance            float64\n",
       "NumOfProducts        int64\n",
       "HasCrCard            int64\n",
       "IsActiveMember       int64\n",
       "EstimatedSalary    float64\n",
       "Exited               int64\n",
       "dtype: object"
      ]
     },
     "execution_count": 3,
     "metadata": {},
     "output_type": "execute_result"
    }
   ],
   "source": [
    "churn_data_original.dtypes"
   ]
  },
  {
   "cell_type": "code",
   "execution_count": 4,
   "id": "aee68cec-bdca-4b75-aae7-0da2fa1b314b",
   "metadata": {},
   "outputs": [],
   "source": [
    "churn_data = churn_data_original.drop([\"RowNumber\", \"CustomerId\", \"Surname\"], axis=1) # Dropping unuseful columns"
   ]
  },
  {
   "cell_type": "code",
   "execution_count": 5,
   "id": "643a36d4-3a7c-4273-b775-e07bba2ed3ce",
   "metadata": {
    "scrolled": true
   },
   "outputs": [
    {
     "name": "stdout",
     "output_type": "stream",
     "text": [
      "CreditScore: [619 608 502 699 850 645 822 376 501 684 528 497 476 549 635 616 653 587\n",
      " 726 732 636 510 669 846 577 756 571 574 411 591 533 553 520 722 475 490\n",
      " 804 582 472 465 556 834 660 776 829 637 550 698 585 788 655 601 656 725\n",
      " 511 614 742 687 555 603 751 581 735 661 675 738 813 657 604 519 664 678\n",
      " 757 416 665 777 543 506 493 652 750 729 646 647 808 524 769 730 515 773\n",
      " 814 710 413 623 670 622 785 605 479 685 538 562 721 628 668 828 674 625\n",
      " 432 770 758 795 686 789 589 461 584 579 663 682 793 691 485 650 754 535\n",
      " 716 539 706 586 631 717 800 683 704 615 667 484 480 578 512 606 597 778\n",
      " 514 525 715 580 807 521 759 516 711 618 643 671 689 620 676 572 695 592\n",
      " 567 694 547 594 673 610 767 763 712 703 662 659 523 772 545 634 739 771\n",
      " 681 544 696 766 727 693 557 531 498 651 791 733 811 707 714 782 775 799\n",
      " 602 744 588 747 583 627 731 629 438 642 806 474 559 429 680 749 734 644\n",
      " 626 649 805 718 840 630 654 762 568 613 522 737 648 443 640 540 460 593\n",
      " 801 611 802 745 483 690 492 709 705 560 752 701 537 487 596 702 486 724\n",
      " 548 464 790 534 748 494 590 468 509 818 816 536 753 774 621 569 658 798\n",
      " 641 542 692 639 765 570 638 599 632 779 527 564 833 504 842 508 417 598\n",
      " 741 607 761 848 546 439 755 760 526 713 700 666 566 495 688 612 477 427\n",
      " 839 819 720 459 503 624 529 563 482 796 445 746 786 554 672 787 499 844\n",
      " 450 815 838 803 736 633 600 679 517 792 743 488 421 841 708 507 505 456\n",
      " 435 561 518 565 728 784 552 609 764 697 723 551 444 719 496 541 830 812\n",
      " 677 420 595 617 809 500 826 434 513 478 797 363 399 463 780 452 575 837\n",
      " 794 824 428 823 781 849 489 431 457 768 831 359 820 573 576 558 817 449\n",
      " 440 415 821 530 350 446 425 740 481 783 358 845 451 458 469 423 404 836\n",
      " 473 835 466 491 351 827 843 365 532 414 453 471 401 810 832 470 447 422\n",
      " 825 430 436 426 408 847 418 437 410 454 407 455 462 386 405 383 395 467\n",
      " 433 442 424 448 441 367 412 382 373 419]\n",
      "Geography: ['France' 'Spain' 'Germany']\n",
      "Gender: ['Female' 'Male']\n",
      "Age: [42 41 39 43 44 50 29 27 31 24 34 25 35 45 58 32 38 46 36 33 40 51 61 49\n",
      " 37 19 66 56 26 21 55 75 22 30 28 65 48 52 57 73 47 54 72 20 67 79 62 53\n",
      " 80 59 68 23 60 70 63 64 18 82 69 74 71 76 77 88 85 84 78 81 92 83]\n",
      "Tenure: [ 2  1  8  7  4  6  3 10  5  9  0]\n",
      "Balance: [     0.    83807.86 159660.8  ...  57369.61  75075.31 130142.79]\n",
      "NumOfProducts: [1 3 2 4]\n",
      "HasCrCard: [1 0]\n",
      "IsActiveMember: [1 0]\n",
      "EstimatedSalary: [101348.88 112542.58 113931.57 ...  42085.58  92888.52  38190.78]\n",
      "Exited: [1 0]\n"
     ]
    }
   ],
   "source": [
    "for col in churn_data:\n",
    "    print(f'{col}: {churn_data[col].unique()}') # checking unique values in each column"
   ]
  },
  {
   "cell_type": "markdown",
   "id": "030bff71-0b61-423d-9d00-176c23a1a4cb",
   "metadata": {},
   "source": [
    "#### Converting Categorical Features into Numerical (OneHotEncoding):"
   ]
  },
  {
   "cell_type": "code",
   "execution_count": 6,
   "id": "a0b09c1a-f026-4695-9215-dc5251af36cd",
   "metadata": {},
   "outputs": [
    {
     "data": {
      "text/html": [
       "<div>\n",
       "<style scoped>\n",
       "    .dataframe tbody tr th:only-of-type {\n",
       "        vertical-align: middle;\n",
       "    }\n",
       "\n",
       "    .dataframe tbody tr th {\n",
       "        vertical-align: top;\n",
       "    }\n",
       "\n",
       "    .dataframe thead th {\n",
       "        text-align: right;\n",
       "    }\n",
       "</style>\n",
       "<table border=\"1\" class=\"dataframe\">\n",
       "  <thead>\n",
       "    <tr style=\"text-align: right;\">\n",
       "      <th></th>\n",
       "      <th>CreditScore</th>\n",
       "      <th>Geography</th>\n",
       "      <th>Gender</th>\n",
       "      <th>Age</th>\n",
       "      <th>Tenure</th>\n",
       "      <th>Balance</th>\n",
       "      <th>NumOfProducts</th>\n",
       "      <th>HasCrCard</th>\n",
       "      <th>IsActiveMember</th>\n",
       "      <th>EstimatedSalary</th>\n",
       "      <th>Exited</th>\n",
       "    </tr>\n",
       "  </thead>\n",
       "  <tbody>\n",
       "    <tr>\n",
       "      <th>0</th>\n",
       "      <td>619</td>\n",
       "      <td>France</td>\n",
       "      <td>0</td>\n",
       "      <td>42</td>\n",
       "      <td>2</td>\n",
       "      <td>0.00</td>\n",
       "      <td>1</td>\n",
       "      <td>1</td>\n",
       "      <td>1</td>\n",
       "      <td>101348.88</td>\n",
       "      <td>1</td>\n",
       "    </tr>\n",
       "    <tr>\n",
       "      <th>1</th>\n",
       "      <td>608</td>\n",
       "      <td>Spain</td>\n",
       "      <td>0</td>\n",
       "      <td>41</td>\n",
       "      <td>1</td>\n",
       "      <td>83807.86</td>\n",
       "      <td>1</td>\n",
       "      <td>0</td>\n",
       "      <td>1</td>\n",
       "      <td>112542.58</td>\n",
       "      <td>0</td>\n",
       "    </tr>\n",
       "    <tr>\n",
       "      <th>2</th>\n",
       "      <td>502</td>\n",
       "      <td>France</td>\n",
       "      <td>0</td>\n",
       "      <td>42</td>\n",
       "      <td>8</td>\n",
       "      <td>159660.80</td>\n",
       "      <td>3</td>\n",
       "      <td>1</td>\n",
       "      <td>0</td>\n",
       "      <td>113931.57</td>\n",
       "      <td>1</td>\n",
       "    </tr>\n",
       "    <tr>\n",
       "      <th>3</th>\n",
       "      <td>699</td>\n",
       "      <td>France</td>\n",
       "      <td>0</td>\n",
       "      <td>39</td>\n",
       "      <td>1</td>\n",
       "      <td>0.00</td>\n",
       "      <td>2</td>\n",
       "      <td>0</td>\n",
       "      <td>0</td>\n",
       "      <td>93826.63</td>\n",
       "      <td>0</td>\n",
       "    </tr>\n",
       "    <tr>\n",
       "      <th>4</th>\n",
       "      <td>850</td>\n",
       "      <td>Spain</td>\n",
       "      <td>0</td>\n",
       "      <td>43</td>\n",
       "      <td>2</td>\n",
       "      <td>125510.82</td>\n",
       "      <td>1</td>\n",
       "      <td>1</td>\n",
       "      <td>1</td>\n",
       "      <td>79084.10</td>\n",
       "      <td>0</td>\n",
       "    </tr>\n",
       "  </tbody>\n",
       "</table>\n",
       "</div>"
      ],
      "text/plain": [
       "   CreditScore Geography  Gender  Age  Tenure    Balance  NumOfProducts  \\\n",
       "0          619    France       0   42       2       0.00              1   \n",
       "1          608     Spain       0   41       1   83807.86              1   \n",
       "2          502    France       0   42       8  159660.80              3   \n",
       "3          699    France       0   39       1       0.00              2   \n",
       "4          850     Spain       0   43       2  125510.82              1   \n",
       "\n",
       "   HasCrCard  IsActiveMember  EstimatedSalary  Exited  \n",
       "0          1               1        101348.88       1  \n",
       "1          0               1        112542.58       0  \n",
       "2          1               0        113931.57       1  \n",
       "3          0               0         93826.63       0  \n",
       "4          1               1         79084.10       0  "
      ]
     },
     "execution_count": 6,
     "metadata": {},
     "output_type": "execute_result"
    }
   ],
   "source": [
    "churn_data[\"Gender\"] = [ 1 if i==\"Male\" else 0 for i in churn_data[\"Gender\"]]  #(1 Male, 0 Female)\n",
    "churn_data.head()"
   ]
  },
  {
   "cell_type": "code",
   "execution_count": 7,
   "id": "e9117ac9-437c-40f5-90a1-3754ec83a14e",
   "metadata": {},
   "outputs": [],
   "source": [
    "geography_dummies = pd.get_dummies(churn_data[\"Geography\"], dtype=int, prefix=\"ohe_\", drop_first=True)\n",
    "churn_data = pd.concat([churn_data,geography_dummies],axis=1)"
   ]
  },
  {
   "cell_type": "code",
   "execution_count": 8,
   "id": "db7f2560-d07c-45eb-9c14-fcc5e32bf05e",
   "metadata": {},
   "outputs": [
    {
     "data": {
      "text/html": [
       "<div>\n",
       "<style scoped>\n",
       "    .dataframe tbody tr th:only-of-type {\n",
       "        vertical-align: middle;\n",
       "    }\n",
       "\n",
       "    .dataframe tbody tr th {\n",
       "        vertical-align: top;\n",
       "    }\n",
       "\n",
       "    .dataframe thead th {\n",
       "        text-align: right;\n",
       "    }\n",
       "</style>\n",
       "<table border=\"1\" class=\"dataframe\">\n",
       "  <thead>\n",
       "    <tr style=\"text-align: right;\">\n",
       "      <th></th>\n",
       "      <th>CreditScore</th>\n",
       "      <th>Gender</th>\n",
       "      <th>Age</th>\n",
       "      <th>Tenure</th>\n",
       "      <th>Balance</th>\n",
       "      <th>NumOfProducts</th>\n",
       "      <th>HasCrCard</th>\n",
       "      <th>IsActiveMember</th>\n",
       "      <th>EstimatedSalary</th>\n",
       "      <th>Exited</th>\n",
       "      <th>ohe__Germany</th>\n",
       "      <th>ohe__Spain</th>\n",
       "    </tr>\n",
       "  </thead>\n",
       "  <tbody>\n",
       "    <tr>\n",
       "      <th>0</th>\n",
       "      <td>619</td>\n",
       "      <td>0</td>\n",
       "      <td>42</td>\n",
       "      <td>2</td>\n",
       "      <td>0.00</td>\n",
       "      <td>1</td>\n",
       "      <td>1</td>\n",
       "      <td>1</td>\n",
       "      <td>101348.88</td>\n",
       "      <td>1</td>\n",
       "      <td>0</td>\n",
       "      <td>0</td>\n",
       "    </tr>\n",
       "    <tr>\n",
       "      <th>1</th>\n",
       "      <td>608</td>\n",
       "      <td>0</td>\n",
       "      <td>41</td>\n",
       "      <td>1</td>\n",
       "      <td>83807.86</td>\n",
       "      <td>1</td>\n",
       "      <td>0</td>\n",
       "      <td>1</td>\n",
       "      <td>112542.58</td>\n",
       "      <td>0</td>\n",
       "      <td>0</td>\n",
       "      <td>1</td>\n",
       "    </tr>\n",
       "    <tr>\n",
       "      <th>2</th>\n",
       "      <td>502</td>\n",
       "      <td>0</td>\n",
       "      <td>42</td>\n",
       "      <td>8</td>\n",
       "      <td>159660.80</td>\n",
       "      <td>3</td>\n",
       "      <td>1</td>\n",
       "      <td>0</td>\n",
       "      <td>113931.57</td>\n",
       "      <td>1</td>\n",
       "      <td>0</td>\n",
       "      <td>0</td>\n",
       "    </tr>\n",
       "    <tr>\n",
       "      <th>3</th>\n",
       "      <td>699</td>\n",
       "      <td>0</td>\n",
       "      <td>39</td>\n",
       "      <td>1</td>\n",
       "      <td>0.00</td>\n",
       "      <td>2</td>\n",
       "      <td>0</td>\n",
       "      <td>0</td>\n",
       "      <td>93826.63</td>\n",
       "      <td>0</td>\n",
       "      <td>0</td>\n",
       "      <td>0</td>\n",
       "    </tr>\n",
       "    <tr>\n",
       "      <th>4</th>\n",
       "      <td>850</td>\n",
       "      <td>0</td>\n",
       "      <td>43</td>\n",
       "      <td>2</td>\n",
       "      <td>125510.82</td>\n",
       "      <td>1</td>\n",
       "      <td>1</td>\n",
       "      <td>1</td>\n",
       "      <td>79084.10</td>\n",
       "      <td>0</td>\n",
       "      <td>0</td>\n",
       "      <td>1</td>\n",
       "    </tr>\n",
       "  </tbody>\n",
       "</table>\n",
       "</div>"
      ],
      "text/plain": [
       "   CreditScore  Gender  Age  Tenure    Balance  NumOfProducts  HasCrCard  \\\n",
       "0          619       0   42       2       0.00              1          1   \n",
       "1          608       0   41       1   83807.86              1          0   \n",
       "2          502       0   42       8  159660.80              3          1   \n",
       "3          699       0   39       1       0.00              2          0   \n",
       "4          850       0   43       2  125510.82              1          1   \n",
       "\n",
       "   IsActiveMember  EstimatedSalary  Exited  ohe__Germany  ohe__Spain  \n",
       "0               1        101348.88       1             0           0  \n",
       "1               1        112542.58       0             0           1  \n",
       "2               0        113931.57       1             0           0  \n",
       "3               0         93826.63       0             0           0  \n",
       "4               1         79084.10       0             0           1  "
      ]
     },
     "execution_count": 8,
     "metadata": {},
     "output_type": "execute_result"
    }
   ],
   "source": [
    "churn_data.drop(\"Geography\", axis= 1, inplace=True) # Dropping redundant categorical column\n",
    "churn_data.head()"
   ]
  },
  {
   "cell_type": "markdown",
   "id": "6f1ac721-7fb6-461a-95ac-c52c2f0734cd",
   "metadata": {},
   "source": [
    "#### Scaling Dataset values:"
   ]
  },
  {
   "cell_type": "code",
   "execution_count": 9,
   "id": "52bf6f93-7a74-440b-8550-c0ead4494de4",
   "metadata": {},
   "outputs": [],
   "source": [
    "scaler = MinMaxScaler()\n",
    "churn_data_scaled = scaler.fit_transform(churn_data)\n",
    "churn_data_scaled_df = pd.DataFrame(churn_data_scaled, columns=churn_data.columns)"
   ]
  },
  {
   "cell_type": "markdown",
   "id": "30c5bbf3-aa57-4f50-86d4-efe09485e881",
   "metadata": {},
   "source": [
    "#### Data Visualization and Correlation Testing:"
   ]
  },
  {
   "cell_type": "code",
   "execution_count": 10,
   "id": "8e91587a-8db3-4cca-8852-ad4033b21ddf",
   "metadata": {},
   "outputs": [
    {
     "data": {
      "text/plain": [
       "Text(0.5, 0, '(Exit Status, Active Member)')"
      ]
     },
     "execution_count": 10,
     "metadata": {},
     "output_type": "execute_result"
    },
    {
     "data": {
      "image/png": "[encoded data removed]",
      "text/plain": [
       "<Figure size 640x480 with 1 Axes>"
      ]
     },
     "metadata": {},
     "output_type": "display_data"
    }
   ],
   "source": [
    "# Bar Plot to check if Activity Status of Members affects Exit\n",
    "grouped_data = churn_data_scaled_df[['Exited', 'IsActiveMember']].groupby(['Exited', 'IsActiveMember']).value_counts()\n",
    "grouped_data.plot(kind='bar')\n",
    "plt.title('Value Counts of Groups of Exit Status and Active/Inactive Members')\n",
    "plt.ylabel('Value Counts')\n",
    "plt.xlabel('(Exit Status, Active Member)')"
   ]
  },
  {
   "cell_type": "markdown",
   "id": "6ade1a67-57b8-47ae-a470-e7b7deeaa365",
   "metadata": {},
   "source": [
    "Since the groups (Active and Exited) and (Inactive and Exited) have similar value counts,\n",
    "there isn't any specific correlation between activity and exiting."
   ]
  },
  {
   "cell_type": "code",
   "execution_count": 11,
   "id": "6014ffd9-ed6f-4cef-9665-4c1100225926",
   "metadata": {},
   "outputs": [
    {
     "data": {
      "text/html": [
       "<div>\n",
       "<style scoped>\n",
       "    .dataframe tbody tr th:only-of-type {\n",
       "        vertical-align: middle;\n",
       "    }\n",
       "\n",
       "    .dataframe tbody tr th {\n",
       "        vertical-align: top;\n",
       "    }\n",
       "\n",
       "    .dataframe thead th {\n",
       "        text-align: right;\n",
       "    }\n",
       "</style>\n",
       "<table border=\"1\" class=\"dataframe\">\n",
       "  <thead>\n",
       "    <tr style=\"text-align: right;\">\n",
       "      <th></th>\n",
       "      <th>Exited</th>\n",
       "    </tr>\n",
       "  </thead>\n",
       "  <tbody>\n",
       "    <tr>\n",
       "      <th>CreditScore</th>\n",
       "      <td>-0.027094</td>\n",
       "    </tr>\n",
       "    <tr>\n",
       "      <th>Gender</th>\n",
       "      <td>-0.106512</td>\n",
       "    </tr>\n",
       "    <tr>\n",
       "      <th>Age</th>\n",
       "      <td>0.285323</td>\n",
       "    </tr>\n",
       "    <tr>\n",
       "      <th>Tenure</th>\n",
       "      <td>-0.014001</td>\n",
       "    </tr>\n",
       "    <tr>\n",
       "      <th>Balance</th>\n",
       "      <td>0.118533</td>\n",
       "    </tr>\n",
       "    <tr>\n",
       "      <th>NumOfProducts</th>\n",
       "      <td>-0.047820</td>\n",
       "    </tr>\n",
       "    <tr>\n",
       "      <th>HasCrCard</th>\n",
       "      <td>-0.007138</td>\n",
       "    </tr>\n",
       "    <tr>\n",
       "      <th>IsActiveMember</th>\n",
       "      <td>-0.156128</td>\n",
       "    </tr>\n",
       "    <tr>\n",
       "      <th>EstimatedSalary</th>\n",
       "      <td>0.012097</td>\n",
       "    </tr>\n",
       "    <tr>\n",
       "      <th>Exited</th>\n",
       "      <td>1.000000</td>\n",
       "    </tr>\n",
       "    <tr>\n",
       "      <th>ohe__Germany</th>\n",
       "      <td>0.173488</td>\n",
       "    </tr>\n",
       "    <tr>\n",
       "      <th>ohe__Spain</th>\n",
       "      <td>-0.052667</td>\n",
       "    </tr>\n",
       "  </tbody>\n",
       "</table>\n",
       "</div>"
      ],
      "text/plain": [
       "                   Exited\n",
       "CreditScore     -0.027094\n",
       "Gender          -0.106512\n",
       "Age              0.285323\n",
       "Tenure          -0.014001\n",
       "Balance          0.118533\n",
       "NumOfProducts   -0.047820\n",
       "HasCrCard       -0.007138\n",
       "IsActiveMember  -0.156128\n",
       "EstimatedSalary  0.012097\n",
       "Exited           1.000000\n",
       "ohe__Germany     0.173488\n",
       "ohe__Spain      -0.052667"
      ]
     },
     "execution_count": 11,
     "metadata": {},
     "output_type": "execute_result"
    }
   ],
   "source": [
    "churn_data_scaled_df.corr()[[\"Exited\"]] # Checking correlations"
   ]
  },
  {
   "cell_type": "markdown",
   "id": "a6e9ecea-3ae7-4b08-b4bd-b8bcba5e12e8",
   "metadata": {},
   "source": [
    "*No specific strong correlations, hence we will use all of the features!*"
   ]
  },
  {
   "cell_type": "markdown",
   "id": "379b586e-28a8-4ed8-aae7-1eb947d6079f",
   "metadata": {},
   "source": [
    "#### Imbalance Testing:"
   ]
  },
  {
   "cell_type": "code",
   "execution_count": 12,
   "id": "a07aac65-7060-4cb0-a76a-37c1808cfe83",
   "metadata": {},
   "outputs": [
    {
     "data": {
      "text/plain": [
       "Exited\n",
       "0.0    7963\n",
       "1.0    2037\n",
       "Name: count, dtype: int64"
      ]
     },
     "execution_count": 12,
     "metadata": {},
     "output_type": "execute_result"
    }
   ],
   "source": [
    "churn_data_scaled_df['Exited'].value_counts()"
   ]
  },
  {
   "cell_type": "markdown",
   "id": "33b48738-3ca0-4a15-905e-588c91f78982",
   "metadata": {},
   "source": [
    "**We can see that the dataset is skewed, hence we will try out multiple methods for imbalance handling!**\n",
    "\n",
    "*First we can check how the various models perform without any imbalance handling.*"
   ]
  },
  {
   "cell_type": "markdown",
   "id": "8b05a5b1-770a-4ea9-8755-51e2874c7461",
   "metadata": {},
   "source": [
    "### Testing ML Models (Without Imbalance Handling):"
   ]
  },
  {
   "cell_type": "code",
   "execution_count": 13,
   "id": "83afd372-35aa-4b63-9f8d-644407b676b7",
   "metadata": {},
   "outputs": [],
   "source": [
    "ml_models = {\n",
    "    'svm': {\n",
    "        'model': SVC(gamma='auto'),\n",
    "        'params' : {\n",
    "            'C': [1,10,20],\n",
    "            'kernel': ['rbf','linear']\n",
    "        }  \n",
    "    },\n",
    "    'random_forest': {\n",
    "        'model': RandomForestClassifier(),\n",
    "        'params' : {\n",
    "            'n_estimators': [1,10,50,100]\n",
    "        }\n",
    "    },\n",
    "    'logistic_regression' : {\n",
    "        'model': LogisticRegression(solver='liblinear',multi_class='auto'),\n",
    "        'params': {\n",
    "            'C': [1,5,10]\n",
    "        }\n",
    "    },\n",
    "    'GaussianNB':{\n",
    "        'model': GaussianNB(),\n",
    "        'params':{\n",
    "            'var_smoothing': np.logspace(0, -9, num=100)\n",
    "        }\n",
    "    }\n",
    "}\n",
    "\n",
    "def ml_model_testor(df):\n",
    "    scores = []\n",
    "    xtrain, xtest, ytrain, ytest = train_test_split(df.drop(\"Exited\", axis=1),df[\"Exited\"],test_size=0.2, stratify=df[\"Exited\"])\n",
    "    for model_name, mp in ml_models.items():\n",
    "        clf =  GridSearchCV(mp['model'], mp['params'], cv=5, return_train_score=False)\n",
    "        clf.fit(xtrain, ytrain)\n",
    "        scores.append({\n",
    "            'model': model_name,\n",
    "            'best_score': clf.best_score_,\n",
    "            'best_params': clf.best_params_\n",
    "        })\n",
    "        \n",
    "    scores_df = pd.DataFrame(scores,columns=['model','best_score','best_params'])\n",
    "    return scores_df"
   ]
  },
  {
   "cell_type": "code",
   "execution_count": 14,
   "id": "33acf8cd-eddf-410c-9e4a-12ed1f4310fe",
   "metadata": {},
   "outputs": [
    {
     "data": {
      "text/html": [
       "<div>\n",
       "<style scoped>\n",
       "    .dataframe tbody tr th:only-of-type {\n",
       "        vertical-align: middle;\n",
       "    }\n",
       "\n",
       "    .dataframe tbody tr th {\n",
       "        vertical-align: top;\n",
       "    }\n",
       "\n",
       "    .dataframe thead th {\n",
       "        text-align: right;\n",
       "    }\n",
       "</style>\n",
       "<table border=\"1\" class=\"dataframe\">\n",
       "  <thead>\n",
       "    <tr style=\"text-align: right;\">\n",
       "      <th></th>\n",
       "      <th>model</th>\n",
       "      <th>best_score</th>\n",
       "      <th>best_params</th>\n",
       "    </tr>\n",
       "  </thead>\n",
       "  <tbody>\n",
       "    <tr>\n",
       "      <th>0</th>\n",
       "      <td>svm</td>\n",
       "      <td>0.852375</td>\n",
       "      <td>{'C': 20, 'kernel': 'rbf'}</td>\n",
       "    </tr>\n",
       "    <tr>\n",
       "      <th>1</th>\n",
       "      <td>random_forest</td>\n",
       "      <td>0.861500</td>\n",
       "      <td>{'n_estimators': 100}</td>\n",
       "    </tr>\n",
       "    <tr>\n",
       "      <th>2</th>\n",
       "      <td>logistic_regression</td>\n",
       "      <td>0.810375</td>\n",
       "      <td>{'C': 1}</td>\n",
       "    </tr>\n",
       "    <tr>\n",
       "      <th>3</th>\n",
       "      <td>GaussianNB</td>\n",
       "      <td>0.825375</td>\n",
       "      <td>{'var_smoothing': 0.0001232846739442066}</td>\n",
       "    </tr>\n",
       "  </tbody>\n",
       "</table>\n",
       "</div>"
      ],
      "text/plain": [
       "                 model  best_score                               best_params\n",
       "0                  svm    0.852375                {'C': 20, 'kernel': 'rbf'}\n",
       "1        random_forest    0.861500                     {'n_estimators': 100}\n",
       "2  logistic_regression    0.810375                                  {'C': 1}\n",
       "3           GaussianNB    0.825375  {'var_smoothing': 0.0001232846739442066}"
      ]
     },
     "execution_count": 14,
     "metadata": {},
     "output_type": "execute_result"
    }
   ],
   "source": [
    "scores = ml_model_testor(churn_data_scaled_df)\n",
    "scores"
   ]
  },
  {
   "cell_type": "markdown",
   "id": "a8846a43-3ba7-4d7e-b751-80e3110ae958",
   "metadata": {},
   "source": [
    "We can see RandomForest performs the best out of the selected Models.\n",
    "\n",
    "We will now try predictions with a Neural Network!"
   ]
  },
  {
   "cell_type": "markdown",
   "id": "8dd217da-bab7-4892-a38f-36edcf3434e3",
   "metadata": {},
   "source": [
    "##### Functions for Neural Network tasks:"
   ]
  },
  {
   "cell_type": "code",
   "execution_count": 15,
   "id": "3d43e558-835b-4721-82eb-0356e9872de7",
   "metadata": {},
   "outputs": [],
   "source": [
    "def ann_creator(xtrain, ytrain, xtest, ytest):\n",
    "    # Model Creation\n",
    "    model = tf.keras.Sequential([\n",
    "            tf.keras.layers.Dense(6, input_shape=(11,), activation=\"relu\"),\n",
    "            tf.keras.layers.Dense(3, activation=\"relu\"),\n",
    "            tf.keras.layers.Dense(1, activation=\"sigmoid\")\n",
    "                                ])\n",
    "    model.compile(optimizer='adam',loss='binary_crossentropy',metrics=['accuracy'])\n",
    "    model.fit(xtrain,ytrain,epochs=100, verbose=0)\n",
    "    # model.evaluate(xtest,ytest)\n",
    "    \n",
    "    # Converting final predictions into binary values\n",
    "    preds= []\n",
    "    final_preds = model.predict(xtest)\n",
    "    for item in final_preds:\n",
    "        if item>=0.5:\n",
    "            preds.append(1)\n",
    "        else:\n",
    "            preds.append(0)\n",
    "    \n",
    "    return preds, ytest"
   ]
  },
  {
   "cell_type": "code",
   "execution_count": 16,
   "id": "69dd0f80-7896-4f9f-bf9a-bd337569f956",
   "metadata": {
    "scrolled": true
   },
   "outputs": [],
   "source": [
    "def ann_result_calculator(df):\n",
    "    xtrain, xtest, ytrain, ytest = train_test_split(df.drop(\"Exited\", axis=1),df[\"Exited\"],test_size=0.2)\n",
    "    preds, truth = ann_creator(xtrain,ytrain,xtest,ytest)\n",
    "    # Confusion Matrix\n",
    "    cm = confusion_matrix(truth, preds)\n",
    "    sns.heatmap(cm, annot=True, fmt='.1f')\n",
    "    plt.xlabel(\"Predictions\")\n",
    "    plt.ylabel(\"Truth\")\n",
    "    plt.title(\"Confusion Matrix\")\n",
    "    # Classification Report\n",
    "    cr = classification_report(truth, preds)\n",
    "    print(cr)\n",
    "    return preds, truth"
   ]
  },
  {
   "cell_type": "markdown",
   "id": "d02b9bd6-4d97-4560-b969-9ea2c6f0350e",
   "metadata": {},
   "source": [
    "### Results for ANN without handling Imbalance:"
   ]
  },
  {
   "cell_type": "markdown",
   "id": "24120c77-c769-45ec-b82e-250cbfe42ea5",
   "metadata": {},
   "source": [
    "We will evaluate ANN performance using Classification Report and Confusion Matrix."
   ]
  },
  {
   "cell_type": "code",
   "execution_count": 17,
   "id": "895fff8c-eac9-4df9-a020-6663dd4f05fb",
   "metadata": {
    "scrolled": true
   },
   "outputs": [
    {
     "name": "stderr",
     "output_type": "stream",
     "text": [
      "E:\\python_all\\Lib\\site-packages\\keras\\src\\layers\\core\\dense.py:87: UserWarning: Do not pass an `input_shape`/`input_dim` argument to a layer. When using Sequential models, prefer using an `Input(shape)` object as the first layer in the model instead.\n",
      "  super().__init__(activity_regularizer=activity_regularizer, **kwargs)\n"
     ]
    },
    {
     "name": "stdout",
     "output_type": "stream",
     "text": [
      "\u001b[1m63/63\u001b[0m \u001b[32m━━━━━━━━━━━━━━━━━━━━\u001b[0m\u001b[37m\u001b[0m \u001b[1m0s\u001b[0m 1ms/step\n",
      "              precision    recall  f1-score   support\n",
      "\n",
      "         0.0       0.86      0.98      0.91      1601\n",
      "         1.0       0.79      0.36      0.49       399\n",
      "\n",
      "    accuracy                           0.85      2000\n",
      "   macro avg       0.82      0.67      0.70      2000\n",
      "weighted avg       0.85      0.85      0.83      2000\n",
      "\n"
     ]
    },
    {
     "data": {
      "image/png": "[encoded data removed]",
      "text/plain": [
       "<Figure size 640x480 with 2 Axes>"
      ]
     },
     "metadata": {},
     "output_type": "display_data"
    }
   ],
   "source": [
    "preds, truth = ann_result_calculator(churn_data_scaled_df)"
   ]
  },
  {
   "cell_type": "markdown",
   "id": "12254fff-9a6a-493f-aeaa-699e78a21b83",
   "metadata": {},
   "source": [
    "#### *Let us now employ some imbalance handling techniques!*"
   ]
  },
  {
   "cell_type": "markdown",
   "id": "8a0c0926-433b-4c97-b90b-170ca7aecdab",
   "metadata": {},
   "source": [
    "### <span style=\"color:red\">1. Undersampling: </span>"
   ]
  },
  {
   "cell_type": "code",
   "execution_count": 18,
   "id": "a5429c27-46d8-48f7-9491-c89ae59d6f35",
   "metadata": {},
   "outputs": [],
   "source": [
    "data_churn0 = churn_data_scaled_df[churn_data_scaled_df['Exited']==0]\n",
    "data_churn1 = churn_data_scaled_df[churn_data_scaled_df['Exited']==1]"
   ]
  },
  {
   "cell_type": "code",
   "execution_count": 19,
   "id": "ec41a51c-28ac-40e4-9042-817c985b8396",
   "metadata": {},
   "outputs": [
    {
     "data": {
      "text/plain": [
       "((7963, 12), (2037, 12))"
      ]
     },
     "execution_count": 19,
     "metadata": {},
     "output_type": "execute_result"
    }
   ],
   "source": [
    "data_churn0.shape, data_churn1.shape"
   ]
  },
  {
   "cell_type": "code",
   "execution_count": 20,
   "id": "d3105754-c48b-4dd2-93c0-fc1c37f07fba",
   "metadata": {},
   "outputs": [
    {
     "data": {
      "text/plain": [
       "(4074, 12)"
      ]
     },
     "execution_count": 20,
     "metadata": {},
     "output_type": "execute_result"
    }
   ],
   "source": [
    "churn0_samples = data_churn0.sample(len(data_churn1))\n",
    "churn_data_final_unsampled = pd.concat([data_churn1, churn0_samples], axis=0)\n",
    "churn_data_final_unsampled.shape"
   ]
  },
  {
   "cell_type": "markdown",
   "id": "1a0af6e3-29ee-4b5b-81b6-3422359d2fe0",
   "metadata": {},
   "source": [
    "**ML Model Results (Undersampling):**"
   ]
  },
  {
   "cell_type": "code",
   "execution_count": 21,
   "id": "67bcbd01-3ae4-4c21-9ef4-6759d58ede0f",
   "metadata": {},
   "outputs": [
    {
     "data": {
      "text/html": [
       "<div>\n",
       "<style scoped>\n",
       "    .dataframe tbody tr th:only-of-type {\n",
       "        vertical-align: middle;\n",
       "    }\n",
       "\n",
       "    .dataframe tbody tr th {\n",
       "        vertical-align: top;\n",
       "    }\n",
       "\n",
       "    .dataframe thead th {\n",
       "        text-align: right;\n",
       "    }\n",
       "</style>\n",
       "<table border=\"1\" class=\"dataframe\">\n",
       "  <thead>\n",
       "    <tr style=\"text-align: right;\">\n",
       "      <th></th>\n",
       "      <th>model</th>\n",
       "      <th>best_score</th>\n",
       "      <th>best_params</th>\n",
       "    </tr>\n",
       "  </thead>\n",
       "  <tbody>\n",
       "    <tr>\n",
       "      <th>0</th>\n",
       "      <td>svm</td>\n",
       "      <td>0.742565</td>\n",
       "      <td>{'C': 20, 'kernel': 'rbf'}</td>\n",
       "    </tr>\n",
       "    <tr>\n",
       "      <th>1</th>\n",
       "      <td>random_forest</td>\n",
       "      <td>0.764967</td>\n",
       "      <td>{'n_estimators': 50}</td>\n",
       "    </tr>\n",
       "    <tr>\n",
       "      <th>2</th>\n",
       "      <td>logistic_regression</td>\n",
       "      <td>0.707583</td>\n",
       "      <td>{'C': 5}</td>\n",
       "    </tr>\n",
       "    <tr>\n",
       "      <th>3</th>\n",
       "      <td>GaussianNB</td>\n",
       "      <td>0.710959</td>\n",
       "      <td>{'var_smoothing': 0.001}</td>\n",
       "    </tr>\n",
       "  </tbody>\n",
       "</table>\n",
       "</div>"
      ],
      "text/plain": [
       "                 model  best_score                 best_params\n",
       "0                  svm    0.742565  {'C': 20, 'kernel': 'rbf'}\n",
       "1        random_forest    0.764967        {'n_estimators': 50}\n",
       "2  logistic_regression    0.707583                    {'C': 5}\n",
       "3           GaussianNB    0.710959    {'var_smoothing': 0.001}"
      ]
     },
     "execution_count": 21,
     "metadata": {},
     "output_type": "execute_result"
    }
   ],
   "source": [
    "scores_undersampling = ml_model_testor(churn_data_final_unsampled)\n",
    "scores_undersampling"
   ]
  },
  {
   "cell_type": "markdown",
   "id": "9a824658-b56f-4357-9858-f5e2668ff182",
   "metadata": {},
   "source": [
    "The performance of the models falls rather than improving!! Let us try for ANN:"
   ]
  },
  {
   "cell_type": "markdown",
   "id": "59ab2320-0441-48ee-baf5-52e715463855",
   "metadata": {},
   "source": [
    "**ANN Results (Undersampling):**"
   ]
  },
  {
   "cell_type": "code",
   "execution_count": 22,
   "id": "a5f60823-b356-4205-8ba3-0827829d851f",
   "metadata": {},
   "outputs": [
    {
     "name": "stderr",
     "output_type": "stream",
     "text": [
      "E:\\python_all\\Lib\\site-packages\\keras\\src\\layers\\core\\dense.py:87: UserWarning: Do not pass an `input_shape`/`input_dim` argument to a layer. When using Sequential models, prefer using an `Input(shape)` object as the first layer in the model instead.\n",
      "  super().__init__(activity_regularizer=activity_regularizer, **kwargs)\n"
     ]
    },
    {
     "name": "stdout",
     "output_type": "stream",
     "text": [
      "\u001b[1m26/26\u001b[0m \u001b[32m━━━━━━━━━━━━━━━━━━━━\u001b[0m\u001b[37m\u001b[0m \u001b[1m0s\u001b[0m 1ms/step \n",
      "              precision    recall  f1-score   support\n",
      "\n",
      "         0.0       0.70      0.71      0.70       405\n",
      "         1.0       0.71      0.70      0.70       410\n",
      "\n",
      "    accuracy                           0.70       815\n",
      "   macro avg       0.70      0.70      0.70       815\n",
      "weighted avg       0.70      0.70      0.70       815\n",
      "\n"
     ]
    },
    {
     "data": {
      "image/png": "[encoded data removed]",
      "text/plain": [
       "<Figure size 640x480 with 2 Axes>"
      ]
     },
     "metadata": {},
     "output_type": "display_data"
    }
   ],
   "source": [
    "preds_unsampled, truth_unsampled = ann_result_calculator(churn_data_final_unsampled)"
   ]
  },
  {
   "cell_type": "markdown",
   "id": "0c8701ea-a7dc-491b-b8c5-b9ae5607b9d4",
   "metadata": {},
   "source": [
    "We can see an improvement in the F1 score for ANN!"
   ]
  },
  {
   "cell_type": "markdown",
   "id": "7ec4e9ce-ba45-4fec-b714-06a50fde68d6",
   "metadata": {},
   "source": [
    "### <span style=\"color:red\">2. Oversampling:</span>\n",
    "##### <span style=\"color:green\">(2.1) Duplicate Copying</span>"
   ]
  },
  {
   "cell_type": "code",
   "execution_count": 23,
   "id": "a5f01078-6183-49a4-bd3b-16bb00a8cfa1",
   "metadata": {},
   "outputs": [
    {
     "data": {
      "text/plain": [
       "(15926, 12)"
      ]
     },
     "execution_count": 23,
     "metadata": {},
     "output_type": "execute_result"
    }
   ],
   "source": [
    "churn1_samples = data_churn1.sample(len(data_churn0), replace=True)\n",
    "churn_data_final_ovrsampled = pd.concat([data_churn0, churn1_samples], axis=0)\n",
    "churn_data_final_ovrsampled.shape"
   ]
  },
  {
   "cell_type": "markdown",
   "id": "ab6ed44e-715f-4ff0-be4b-23af9cb8139a",
   "metadata": {},
   "source": [
    "**ML Model Results(Oversampling with Duplicates):**"
   ]
  },
  {
   "cell_type": "code",
   "execution_count": 24,
   "id": "b9f065ef-4b5d-404f-8e5c-f89fadbdb862",
   "metadata": {},
   "outputs": [
    {
     "data": {
      "text/html": [
       "<div>\n",
       "<style scoped>\n",
       "    .dataframe tbody tr th:only-of-type {\n",
       "        vertical-align: middle;\n",
       "    }\n",
       "\n",
       "    .dataframe tbody tr th {\n",
       "        vertical-align: top;\n",
       "    }\n",
       "\n",
       "    .dataframe thead th {\n",
       "        text-align: right;\n",
       "    }\n",
       "</style>\n",
       "<table border=\"1\" class=\"dataframe\">\n",
       "  <thead>\n",
       "    <tr style=\"text-align: right;\">\n",
       "      <th></th>\n",
       "      <th>model</th>\n",
       "      <th>best_score</th>\n",
       "      <th>best_params</th>\n",
       "    </tr>\n",
       "  </thead>\n",
       "  <tbody>\n",
       "    <tr>\n",
       "      <th>0</th>\n",
       "      <td>svm</td>\n",
       "      <td>0.774961</td>\n",
       "      <td>{'C': 20, 'kernel': 'rbf'}</td>\n",
       "    </tr>\n",
       "    <tr>\n",
       "      <th>1</th>\n",
       "      <td>random_forest</td>\n",
       "      <td>0.937834</td>\n",
       "      <td>{'n_estimators': 100}</td>\n",
       "    </tr>\n",
       "    <tr>\n",
       "      <th>2</th>\n",
       "      <td>logistic_regression</td>\n",
       "      <td>0.706122</td>\n",
       "      <td>{'C': 10}</td>\n",
       "    </tr>\n",
       "    <tr>\n",
       "      <th>3</th>\n",
       "      <td>GaussianNB</td>\n",
       "      <td>0.712794</td>\n",
       "      <td>{'var_smoothing': 1.873817422860383e-05}</td>\n",
       "    </tr>\n",
       "  </tbody>\n",
       "</table>\n",
       "</div>"
      ],
      "text/plain": [
       "                 model  best_score                               best_params\n",
       "0                  svm    0.774961                {'C': 20, 'kernel': 'rbf'}\n",
       "1        random_forest    0.937834                     {'n_estimators': 100}\n",
       "2  logistic_regression    0.706122                                 {'C': 10}\n",
       "3           GaussianNB    0.712794  {'var_smoothing': 1.873817422860383e-05}"
      ]
     },
     "execution_count": 24,
     "metadata": {},
     "output_type": "execute_result"
    }
   ],
   "source": [
    "scores_oversampling = ml_model_testor(churn_data_final_ovrsampled)\n",
    "scores_oversampling"
   ]
  },
  {
   "cell_type": "markdown",
   "id": "e1780a0d-feda-4262-84bd-7bc117c83e24",
   "metadata": {},
   "source": [
    "Random forest shows significant improvement but all the others have reduced scores!"
   ]
  },
  {
   "cell_type": "markdown",
   "id": "0220c8f8-15bf-40df-95e1-fddad1ef4118",
   "metadata": {},
   "source": [
    "**ANN Results(Oversampling):**"
   ]
  },
  {
   "cell_type": "code",
   "execution_count": 25,
   "id": "207bef18-c7e9-4ee6-b258-70711786a749",
   "metadata": {},
   "outputs": [
    {
     "name": "stderr",
     "output_type": "stream",
     "text": [
      "E:\\python_all\\Lib\\site-packages\\keras\\src\\layers\\core\\dense.py:87: UserWarning: Do not pass an `input_shape`/`input_dim` argument to a layer. When using Sequential models, prefer using an `Input(shape)` object as the first layer in the model instead.\n",
      "  super().__init__(activity_regularizer=activity_regularizer, **kwargs)\n"
     ]
    },
    {
     "name": "stdout",
     "output_type": "stream",
     "text": [
      "\u001b[1m100/100\u001b[0m \u001b[32m━━━━━━━━━━━━━━━━━━━━\u001b[0m\u001b[37m\u001b[0m \u001b[1m0s\u001b[0m 783us/step\n",
      "              precision    recall  f1-score   support\n",
      "\n",
      "         0.0       0.80      0.75      0.77      1597\n",
      "         1.0       0.76      0.81      0.78      1589\n",
      "\n",
      "    accuracy                           0.78      3186\n",
      "   macro avg       0.78      0.78      0.78      3186\n",
      "weighted avg       0.78      0.78      0.78      3186\n",
      "\n"
     ]
    },
    {
     "data": {
      "image/png": "[encoded data removed]",
      "text/plain": [
       "<Figure size 640x480 with 2 Axes>"
      ]
     },
     "metadata": {},
     "output_type": "display_data"
    }
   ],
   "source": [
    "preds_ovrsampled, truth_oversampled = ann_result_calculator(churn_data_final_ovrsampled)"
   ]
  },
  {
   "cell_type": "markdown",
   "id": "25d13944-df14-459a-8a5f-90ac4d219a96",
   "metadata": {},
   "source": [
    "This technique also improves the F1 Score for ANN to a similar extent as undersampling!"
   ]
  },
  {
   "cell_type": "markdown",
   "id": "a79697dd-d0a1-4a0c-b2d1-f3f7fd95d74a",
   "metadata": {},
   "source": [
    "##### <span style=\"color:green\">(2.1) SMOT:</span>"
   ]
  },
  {
   "cell_type": "code",
   "execution_count": 26,
   "id": "3506b125-c6e9-434f-a7d7-6e9068e3ed6e",
   "metadata": {},
   "outputs": [
    {
     "data": {
      "text/plain": [
       "Exited\n",
       "1.0    7963\n",
       "0.0    7963\n",
       "Name: count, dtype: int64"
      ]
     },
     "execution_count": 26,
     "metadata": {},
     "output_type": "execute_result"
    }
   ],
   "source": [
    "smote = SMOTE()\n",
    "x = churn_data_scaled_df.drop('Exited', axis=1)\n",
    "y = churn_data_scaled_df['Exited']\n",
    "x_smote, y_smote = smote.fit_resample(x, y)\n",
    "y_smote.value_counts()"
   ]
  },
  {
   "cell_type": "code",
   "execution_count": 27,
   "id": "58bb4c56-bbcc-4057-8119-e38ab914e561",
   "metadata": {},
   "outputs": [],
   "source": [
    "x_smote[\"Exited\"] = y_smote # Combining all values into a DataFrame"
   ]
  },
  {
   "cell_type": "markdown",
   "id": "a9f7514a-3017-4c64-9311-45be70b91c06",
   "metadata": {},
   "source": [
    "**ML Model Results(Oversampling with SMOT):**"
   ]
  },
  {
   "cell_type": "code",
   "execution_count": 28,
   "id": "fb451670-0e39-4c69-98a9-100760e98baa",
   "metadata": {},
   "outputs": [
    {
     "data": {
      "text/html": [
       "<div>\n",
       "<style scoped>\n",
       "    .dataframe tbody tr th:only-of-type {\n",
       "        vertical-align: middle;\n",
       "    }\n",
       "\n",
       "    .dataframe tbody tr th {\n",
       "        vertical-align: top;\n",
       "    }\n",
       "\n",
       "    .dataframe thead th {\n",
       "        text-align: right;\n",
       "    }\n",
       "</style>\n",
       "<table border=\"1\" class=\"dataframe\">\n",
       "  <thead>\n",
       "    <tr style=\"text-align: right;\">\n",
       "      <th></th>\n",
       "      <th>model</th>\n",
       "      <th>best_score</th>\n",
       "      <th>best_params</th>\n",
       "    </tr>\n",
       "  </thead>\n",
       "  <tbody>\n",
       "    <tr>\n",
       "      <th>0</th>\n",
       "      <td>svm</td>\n",
       "      <td>0.774725</td>\n",
       "      <td>{'C': 20, 'kernel': 'rbf'}</td>\n",
       "    </tr>\n",
       "    <tr>\n",
       "      <th>1</th>\n",
       "      <td>random_forest</td>\n",
       "      <td>0.891444</td>\n",
       "      <td>{'n_estimators': 100}</td>\n",
       "    </tr>\n",
       "    <tr>\n",
       "      <th>2</th>\n",
       "      <td>logistic_regression</td>\n",
       "      <td>0.710754</td>\n",
       "      <td>{'C': 10}</td>\n",
       "    </tr>\n",
       "    <tr>\n",
       "      <th>3</th>\n",
       "      <td>GaussianNB</td>\n",
       "      <td>0.725667</td>\n",
       "      <td>{'var_smoothing': 0.0001519911082952933}</td>\n",
       "    </tr>\n",
       "  </tbody>\n",
       "</table>\n",
       "</div>"
      ],
      "text/plain": [
       "                 model  best_score                               best_params\n",
       "0                  svm    0.774725                {'C': 20, 'kernel': 'rbf'}\n",
       "1        random_forest    0.891444                     {'n_estimators': 100}\n",
       "2  logistic_regression    0.710754                                 {'C': 10}\n",
       "3           GaussianNB    0.725667  {'var_smoothing': 0.0001519911082952933}"
      ]
     },
     "execution_count": 28,
     "metadata": {},
     "output_type": "execute_result"
    }
   ],
   "source": [
    "scores_oversampling_smote = ml_model_testor(x_smote)\n",
    "scores_oversampling_smote"
   ]
  },
  {
   "cell_type": "markdown",
   "id": "61d529c3-4a4a-4880-ab5e-4f981646623d",
   "metadata": {},
   "source": [
    "No significant improvement!"
   ]
  },
  {
   "cell_type": "markdown",
   "id": "0516f749-5056-426f-8c45-cb3375a9ac9c",
   "metadata": {},
   "source": [
    "**ANN Results(Oversampling with Duplicates):**"
   ]
  },
  {
   "cell_type": "code",
   "execution_count": 29,
   "id": "caa26d37-204f-45be-9fa4-21a7f75d21a9",
   "metadata": {},
   "outputs": [
    {
     "name": "stderr",
     "output_type": "stream",
     "text": [
      "E:\\python_all\\Lib\\site-packages\\keras\\src\\layers\\core\\dense.py:87: UserWarning: Do not pass an `input_shape`/`input_dim` argument to a layer. When using Sequential models, prefer using an `Input(shape)` object as the first layer in the model instead.\n",
      "  super().__init__(activity_regularizer=activity_regularizer, **kwargs)\n"
     ]
    },
    {
     "name": "stdout",
     "output_type": "stream",
     "text": [
      "\u001b[1m100/100\u001b[0m \u001b[32m━━━━━━━━━━━━━━━━━━━━\u001b[0m\u001b[37m\u001b[0m \u001b[1m0s\u001b[0m 1ms/step  \n",
      "              precision    recall  f1-score   support\n",
      "\n",
      "         0.0       0.76      0.82      0.79      1601\n",
      "         1.0       0.80      0.74      0.77      1585\n",
      "\n",
      "    accuracy                           0.78      3186\n",
      "   macro avg       0.78      0.78      0.78      3186\n",
      "weighted avg       0.78      0.78      0.78      3186\n",
      "\n"
     ]
    },
    {
     "data": {
      "image/png": "[encoded data removed]",
      "text/plain": [
       "<Figure size 640x480 with 2 Axes>"
      ]
     },
     "metadata": {},
     "output_type": "display_data"
    }
   ],
   "source": [
    "preds_smote, truth_smote = ann_result_calculator(x_smote)"
   ]
  },
  {
   "cell_type": "markdown",
   "id": "681229de-40b2-41a4-9b76-dd1899d429b6",
   "metadata": {},
   "source": [
    "We see improvement in the F1 score for ANN!"
   ]
  },
  {
   "cell_type": "markdown",
   "id": "f57cd847-b6ca-4d38-b4cf-5093289b2c47",
   "metadata": {},
   "source": [
    "### <span style=\"color:red\">3. Ensemble Method for ANN:</span>"
   ]
  },
  {
   "cell_type": "code",
   "execution_count": 30,
   "id": "63359079-36aa-4e03-a163-38d6920d84e4",
   "metadata": {},
   "outputs": [],
   "source": [
    "x_train_allbatch, xtest_allbatch, y_train_allbatch, ytest_allbatch = train_test_split(churn_data_scaled_df.drop(\"Exited\", axis=1),churn_data_scaled_df[\"Exited\"],test_size=0.2)"
   ]
  },
  {
   "cell_type": "markdown",
   "id": "b82b9c57-6c3b-48e3-b18b-cceebdb99f0b",
   "metadata": {},
   "source": [
    "We split the dataset into train and test, now we will only use the train set to train all the batches and then finally use the test set on all the batches and take the majority vote to compare with the truth values to check if the F1 Score improves."
   ]
  },
  {
   "cell_type": "code",
   "execution_count": 31,
   "id": "b4f27827-bdb2-42a6-8509-27f9489a10d1",
   "metadata": {},
   "outputs": [],
   "source": [
    "x_train_allbatch[\"Exited\"] = y_train_allbatch\n",
    "df_train = x_train_allbatch.copy()"
   ]
  },
  {
   "cell_type": "code",
   "execution_count": 32,
   "id": "c7bccaa2-c8a0-417f-8ff0-a2ad478ba96d",
   "metadata": {},
   "outputs": [
    {
     "data": {
      "text/plain": [
       "Exited\n",
       "0.0    6372\n",
       "1.0    1628\n",
       "Name: count, dtype: int64"
      ]
     },
     "execution_count": 32,
     "metadata": {},
     "output_type": "execute_result"
    }
   ],
   "source": [
    "df_train[\"Exited\"].value_counts()"
   ]
  },
  {
   "cell_type": "code",
   "execution_count": 33,
   "id": "3f62b9c6-e185-466f-930b-171183331b76",
   "metadata": {},
   "outputs": [],
   "source": [
    "# Creating batches according to the value counts to balance the dataset\n",
    "df_majority = df_train[df_train[\"Exited\"]==0]\n",
    "df_minority = df_train[df_train[\"Exited\"]==1]\n",
    "batch_list = []\n",
    "\n",
    "for j in range(0,len(df_majority),1637): # 1637 can be replaced with the required batch size.\n",
    "    df_combined = pd.concat([df_majority[j:j+1637], df_minority], axis=0)\n",
    "    batch_list.append(df_combined) # compiling all batches into a list"
   ]
  },
  {
   "cell_type": "code",
   "execution_count": 34,
   "id": "1a2c53aa-a69e-4440-b983-010393b4d88b",
   "metadata": {},
   "outputs": [],
   "source": [
    "def batch_ann(xtrain, ytrain):\n",
    "    # Model Creation\n",
    "    model = tf.keras.Sequential([\n",
    "            tf.keras.layers.Dense(6, input_shape=(11,), activation=\"relu\"),\n",
    "            tf.keras.layers.Dense(3, activation=\"relu\"),\n",
    "            tf.keras.layers.Dense(1, activation=\"sigmoid\")\n",
    "                                ])\n",
    "    model.compile(optimizer='adam',loss='binary_crossentropy',metrics=['accuracy'])\n",
    "    model.fit(xtrain,ytrain,epochs=100, verbose=0)\n",
    "\n",
    "    # Converting final predictions into binary values\n",
    "    preds= []\n",
    "    final_preds = model.predict(xtest_allbatch)\n",
    "    for item in final_preds:\n",
    "        if item>=0.5:\n",
    "            preds.append(1)\n",
    "        else:\n",
    "            preds.append(0)\n",
    "    \n",
    "    return preds"
   ]
  },
  {
   "cell_type": "code",
   "execution_count": 35,
   "id": "42f20b24-fc53-4d80-b7f5-90970117bf56",
   "metadata": {},
   "outputs": [
    {
     "name": "stderr",
     "output_type": "stream",
     "text": [
      "E:\\python_all\\Lib\\site-packages\\keras\\src\\layers\\core\\dense.py:87: UserWarning: Do not pass an `input_shape`/`input_dim` argument to a layer. When using Sequential models, prefer using an `Input(shape)` object as the first layer in the model instead.\n",
      "  super().__init__(activity_regularizer=activity_regularizer, **kwargs)\n"
     ]
    },
    {
     "name": "stdout",
     "output_type": "stream",
     "text": [
      "\u001b[1m63/63\u001b[0m \u001b[32m━━━━━━━━━━━━━━━━━━━━\u001b[0m\u001b[37m\u001b[0m \u001b[1m0s\u001b[0m 1ms/step\n"
     ]
    },
    {
     "name": "stderr",
     "output_type": "stream",
     "text": [
      "E:\\python_all\\Lib\\site-packages\\keras\\src\\layers\\core\\dense.py:87: UserWarning: Do not pass an `input_shape`/`input_dim` argument to a layer. When using Sequential models, prefer using an `Input(shape)` object as the first layer in the model instead.\n",
      "  super().__init__(activity_regularizer=activity_regularizer, **kwargs)\n"
     ]
    },
    {
     "name": "stdout",
     "output_type": "stream",
     "text": [
      "\u001b[1m63/63\u001b[0m \u001b[32m━━━━━━━━━━━━━━━━━━━━\u001b[0m\u001b[37m\u001b[0m \u001b[1m0s\u001b[0m 1ms/step\n"
     ]
    },
    {
     "name": "stderr",
     "output_type": "stream",
     "text": [
      "E:\\python_all\\Lib\\site-packages\\keras\\src\\layers\\core\\dense.py:87: UserWarning: Do not pass an `input_shape`/`input_dim` argument to a layer. When using Sequential models, prefer using an `Input(shape)` object as the first layer in the model instead.\n",
      "  super().__init__(activity_regularizer=activity_regularizer, **kwargs)\n"
     ]
    },
    {
     "name": "stdout",
     "output_type": "stream",
     "text": [
      "\u001b[1m63/63\u001b[0m \u001b[32m━━━━━━━━━━━━━━━━━━━━\u001b[0m\u001b[37m\u001b[0m \u001b[1m0s\u001b[0m 943us/step\n"
     ]
    },
    {
     "name": "stderr",
     "output_type": "stream",
     "text": [
      "E:\\python_all\\Lib\\site-packages\\keras\\src\\layers\\core\\dense.py:87: UserWarning: Do not pass an `input_shape`/`input_dim` argument to a layer. When using Sequential models, prefer using an `Input(shape)` object as the first layer in the model instead.\n",
      "  super().__init__(activity_regularizer=activity_regularizer, **kwargs)\n"
     ]
    },
    {
     "name": "stdout",
     "output_type": "stream",
     "text": [
      "\u001b[1m63/63\u001b[0m \u001b[32m━━━━━━━━━━━━━━━━━━━━\u001b[0m\u001b[37m\u001b[0m \u001b[1m0s\u001b[0m 912us/step\n"
     ]
    }
   ],
   "source": [
    "# Now we will iterate over the list and train each of our models whilst storing the predictions for each in another list.\n",
    "batchwise_preds = []\n",
    "for batch in batch_list:\n",
    "    xtrain, xtest, ytrain, ytest = train_test_split(batch.drop(\"Exited\", axis=1),batch[\"Exited\"],test_size=0.2)\n",
    "    batchwise_preds.append(batch_ann(xtrain, ytrain))"
   ]
  },
  {
   "cell_type": "code",
   "execution_count": 36,
   "id": "bcbe7aa9-2c96-4d70-9692-ecc0dfeb638a",
   "metadata": {},
   "outputs": [],
   "source": [
    "# Saving batchwise predictions into seperate variables\n",
    "b1_preds = batchwise_preds[0]\n",
    "b2_preds = batchwise_preds[1]\n",
    "b3_preds = batchwise_preds[2]\n",
    "b4_preds = batchwise_preds[3]   \n",
    "\n",
    "final_predictions = []\n",
    "# Taking majority vote (Note: Incase of 2:2 votes, we're considering the minority class)\n",
    "for i in range(len(b1_preds)):\n",
    "    score = 0\n",
    "    score = b1_preds[i]+b2_preds[i]+b3_preds[i]+b4_preds[i]\n",
    "    if score>=2:\n",
    "        final_predictions.append(1)\n",
    "    else:\n",
    "        final_predictions.append(0)"
   ]
  },
  {
   "cell_type": "code",
   "execution_count": 37,
   "id": "e9446f85-ca52-49cf-b794-a728a0fa10db",
   "metadata": {},
   "outputs": [
    {
     "name": "stdout",
     "output_type": "stream",
     "text": [
      "              precision    recall  f1-score   support\n",
      "\n",
      "         0.0       0.93      0.75      0.83      1591\n",
      "         1.0       0.45      0.77      0.57       409\n",
      "\n",
      "    accuracy                           0.76      2000\n",
      "   macro avg       0.69      0.76      0.70      2000\n",
      "weighted avg       0.83      0.76      0.78      2000\n",
      "\n"
     ]
    },
    {
     "data": {
      "image/png": "[encoded data removed]",
      "text/plain": [
       "<Figure size 640x480 with 2 Axes>"
      ]
     },
     "metadata": {},
     "output_type": "display_data"
    }
   ],
   "source": [
    "# Performance checks for Ensemble Method\n",
    "# Confusion Matrix\n",
    "cm = confusion_matrix(ytest_allbatch, final_predictions)\n",
    "sns.heatmap(cm, annot=True, fmt='.1f')\n",
    "plt.xlabel(\"Predictions\")\n",
    "plt.ylabel(\"Truth\")\n",
    "plt.title(\"Confusion Matrix\")\n",
    "# Classification Report\n",
    "cr = classification_report(ytest_allbatch, final_predictions)\n",
    "print(cr)"
   ]
  },
  {
   "cell_type": "markdown",
   "id": "fe6ab2a7-49b5-471b-b34d-ed3b2b621c9e",
   "metadata": {},
   "source": [
    "This does not show any improvement for the F1 score for ANN."
   ]
  },
  {
   "cell_type": "markdown",
   "id": "07caa471-d4a9-43a4-a973-011058c18b85",
   "metadata": {},
   "source": [
    "#### <span style=\"color:red\">Results:</span>\n",
    "1. Overall out of the considered ML Models, the Random Forest Classifier works best and shows significant improvement when we use Oversampling(Duplication) technique.\n",
    "\n",
    "2. ANN performs best when we use Oversampling by SMOT method to handle the dataset imbalance."
   ]
  }
 ],
 "metadata": {
  "kernelspec": {
   "display_name": "Python 3 (ipykernel)",
   "language": "python",
   "name": "python3"
  },
  "language_info": {
   "codemirror_mode": {
    "name": "ipython",
    "version": 3
   },
   "file_extension": ".py",
   "mimetype": "text/x-python",
   "name": "python",
   "nbconvert_exporter": "python",
   "pygments_lexer": "ipython3",
   "version": "3.12.3"
  }
 },
 "nbformat": 4,
 "nbformat_minor": 5
}
